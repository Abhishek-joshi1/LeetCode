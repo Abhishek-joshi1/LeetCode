{
 "cells": [
  {
   "cell_type": "markdown",
   "metadata": {},
   "source": [
    "Question 5: Find the homeless \n",
    "Problem Statement -:  There are N Homeless people in the community and N houses in the community. It will be given in the array (people), the height of the person, and in the array house capacity of the house is given.\n",
    "\n",
    "The government decided to give homes to people on the basis of the following conditions:\n",
    "\n",
    "Priority is given to the people from left to right of the array\n",
    "Each person is allotted to a house if and only if the capacity of the house is greater than or equal to the person’s height\n",
    "Nearby empty Houses are allotted to the person( starting from the extreme left)\n",
    "You need to find the number of homeless people who have not been allotted any home if the government follows the above conditions. So that government will have an idea of how many people they need to allot homes for next time.\n",
    "\n",
    "Constraints:\n",
    "\n",
    "1 <= N <= 10^3\n",
    "1 <= people[i] <= 10^5\n",
    "1 <= house[i] <= 10^5\n",
    "Input Format for Custom Testing:\n",
    "\n",
    "The first line contains an integer, N, denoting the number of  people and number of houses.\n",
    "Each line i of the N subsequent lines (where 0 <= i <= N) contains an integer describing peoplei.\n",
    "Each line i of the N subsequent lines (where 0 <= i <= N) contains an integer describing housei.\n",
    "Sample Test Cases\n",
    "\n",
    "Sample Input 1\n",
    "3  \n",
    "4\n",
    "2\n",
    "7\n",
    "3\n",
    "5\n",
    "10\n",
    "Sample Output 1\n",
    "0\n",
    "Explanation\n",
    "people=[4,2,7]\n",
    "house=[3,5,10]\n",
    "People[0] has more priority , from left to right order in houses 5 is the nearest one which fits for people[0]\n",
    "people[1]=2 will fit in 3 which is nearer from left\n",
    "people[2]=7 will fit in remaining house of capacity of 10\n",
    "So no homeless people left so return 0 \n",
    "Sample Input 2\n",
    "3\n",
    "3\n",
    "8\n",
    "5\n",
    "1\n",
    "9\n",
    "4\n",
    "Sample Output 2\n",
    "2\n",
    "Explanation\n",
    "people=[3,8,5]\n",
    "house=[1,9,4]\n",
    "people[0]=3 can fit in 9 which is nearest from left in array house\n",
    "people[1]=8  cannot fit in any home which is left (i.e, 1 and 4)\n",
    "people[2]=5 cannot fit in any home which is left (i.e, 1 and 4)\n",
    "So return 2,which is number of homeless people"
   ]
  },
  {
   "cell_type": "code",
   "execution_count": 7,
   "metadata": {},
   "outputs": [
    {
     "name": "stdout",
     "output_type": "stream",
     "text": [
      "2\n"
     ]
    }
   ],
   "source": [
    "def findTheHomeless(people: list, houses: list) -> int:\n",
    "    count = 0\n",
    "    visited = [False] * len(houses)  # Track whether a house is used\n",
    "    \n",
    "    for i in range(len(people)):\n",
    "        for j in range(len(houses)):\n",
    "            if not visited[j] and people[i] <= houses[j]:\n",
    "                count += 1\n",
    "                visited[j] = True  # Mark the house as used\n",
    "                break  # Move to the next person\n",
    "    \n",
    "    return len(people) - count  # Return the number of homeless people\n",
    "\n",
    "# Test case\n",
    "people = [3, 8, 5]\n",
    "houses = [1, 9, 4]\n",
    "\n",
    "print(findTheHomeless(people, houses))  # Expected output: 2\n"
   ]
  }
 ],
 "metadata": {
  "kernelspec": {
   "display_name": "Python 3",
   "language": "python",
   "name": "python3"
  },
  "language_info": {
   "codemirror_mode": {
    "name": "ipython",
    "version": 3
   },
   "file_extension": ".py",
   "mimetype": "text/x-python",
   "name": "python",
   "nbconvert_exporter": "python",
   "pygments_lexer": "ipython3",
   "version": "3.11.5"
  }
 },
 "nbformat": 4,
 "nbformat_minor": 2
}
