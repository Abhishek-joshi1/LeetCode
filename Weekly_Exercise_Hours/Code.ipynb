{
 "cells": [
  {
   "cell_type": "code",
   "execution_count": 7,
   "metadata": {},
   "outputs": [
    {
     "name": "stdout",
     "output_type": "stream",
     "text": [
      "Day 1 Exercise Duration (minutes): 40.0\n",
      "Day 2 Exercise Duration (minutes): 40.0\n",
      "Day 3 Exercise Duration (minutes): 40.0\n",
      "Day 4 Exercise Duration (minutes): 40.0\n",
      "Day 5 Exercise Duration (minutes): 40.0\n",
      "Day 6 Exercise Duration (minutes): 40.0\n",
      "Day 7 Exercise Duration (minutes): 40.0\n",
      "Total Exercise Hours : 280.0 minutes\n",
      "Average Exercise Hours : 40.0 minutes\n"
     ]
    }
   ],
   "source": [
    "class Solution:\n",
    "    def Exercise_Tracker():\n",
    "        n = 7\n",
    "        arr = []\n",
    "        for i in range(n):\n",
    "            curr = int(input())\n",
    "            print(\"Day \" + str(i + 1) + \" Exercise Duration (minutes): \" + str(float(curr)))\n",
    "            arr.append(curr)\n",
    "        \n",
    "        Total_Exercise_Hours = float(sum(arr))\n",
    "        Avg_Ex_hrs = Total_Exercise_Hours / 7.0\n",
    "        print(f\"Total Exercise Hours : {Total_Exercise_Hours} minutes\")\n",
    "        print(f\"Average Exercise Hours : {Avg_Ex_hrs} minutes\")\n",
    "\n",
    "if __name__ == \"__main__\":\n",
    "    Solution.Exercise_Tracker()"
   ]
  }
 ],
 "metadata": {
  "kernelspec": {
   "display_name": "Python 3",
   "language": "python",
   "name": "python3"
  },
  "language_info": {
   "codemirror_mode": {
    "name": "ipython",
    "version": 3
   },
   "file_extension": ".py",
   "mimetype": "text/x-python",
   "name": "python",
   "nbconvert_exporter": "python",
   "pygments_lexer": "ipython3",
   "version": "3.10.0"
  }
 },
 "nbformat": 4,
 "nbformat_minor": 2
}
