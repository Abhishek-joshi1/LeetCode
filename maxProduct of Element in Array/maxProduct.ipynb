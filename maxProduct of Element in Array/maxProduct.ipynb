{
 "cells": [
  {
   "cell_type": "markdown",
   "metadata": {},
   "source": [
    "Question 6 : Find a pair with maximum product in array of Integers\n",
    "Given an array with both +ive and -ive integers, return a pair with the highest product.\n",
    "\n",
    "Input:  \n",
    "Input1 : arr[] = {1, 4, 3, 6, 7, 0}  \n",
    "Input2 : arr[] = {-1, -3, -4, 2, 0, -5} \n",
    "\n",
    "Output: \n",
    "Output1 : {6,7}\n",
    "\n",
    "Output2 : {-4,-5}\n",
    "\n",
    "[Tech Mahindra Coding Questions 2024]"
   ]
  },
  {
   "cell_type": "code",
   "execution_count": 3,
   "metadata": {},
   "outputs": [
    {
     "name": "stdout",
     "output_type": "stream",
     "text": [
      "Output1: (7, 6)\n",
      "Output2: (-5, -4)\n"
     ]
    }
   ],
   "source": [
    "def find_pair_with_highest_product(arr):\n",
    "    n = len(arr)\n",
    "\n",
    "    if n < 2:\n",
    "        print(\"Array should have at least two elements\")\n",
    "        return None\n",
    "\n",
    "    max_positive1, max_positive2 = float('-inf'), float('-inf')\n",
    "    min_negative1, min_negative2 = float('inf'), float('inf')\n",
    "\n",
    "    for num in arr:\n",
    "        # Update the two largest positive numbers\n",
    "        if num > max_positive1:\n",
    "            max_positive2 = max_positive1\n",
    "            max_positive1 = num\n",
    "        elif num > max_positive2:\n",
    "            max_positive2 = num\n",
    "\n",
    "        # Update the two smallest (most negative) numbers\n",
    "        if num < min_negative1:\n",
    "            min_negative2 = min_negative1\n",
    "            min_negative1 = num\n",
    "        elif num < min_negative2:\n",
    "            min_negative2 = num\n",
    "\n",
    "    # Calculate the possible products\n",
    "    product1 = max_positive1 * max_positive2\n",
    "    product2 = min_negative1 * min_negative2\n",
    "\n",
    "    # Return the pair that gives the highest product\n",
    "    return (max_positive1, max_positive2) if product1 > product2 else (min_negative1, min_negative2)\n",
    "\n",
    "# Example usage\n",
    "arr1 = [1, 4, 3, 6, 7, 0]\n",
    "arr2 = [-1, -3, -4, 2, 0, -5]\n",
    "\n",
    "result1 = find_pair_with_highest_product(arr1)\n",
    "result2 = find_pair_with_highest_product(arr2)\n",
    "\n",
    "print(\"Output1:\", result1)\n",
    "print(\"Output2:\", result2)\n"
   ]
  }
 ],
 "metadata": {
  "kernelspec": {
   "display_name": "Python 3",
   "language": "python",
   "name": "python3"
  },
  "language_info": {
   "codemirror_mode": {
    "name": "ipython",
    "version": 3
   },
   "file_extension": ".py",
   "mimetype": "text/x-python",
   "name": "python",
   "nbconvert_exporter": "python",
   "pygments_lexer": "ipython3",
   "version": "3.11.5"
  }
 },
 "nbformat": 4,
 "nbformat_minor": 2
}
