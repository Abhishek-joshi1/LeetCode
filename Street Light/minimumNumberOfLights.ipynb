{
 "cells": [
  {
   "cell_type": "markdown",
   "metadata": {},
   "source": [
    "Question 3: Street Light Installation\n",
    "Street Lights are installed at every position along a 1-D road of length n.\n",
    "\n",
    "Locations[] (an array) represent the coverage limit of these lights. The ith light has a coverage limit of locations[i] that can range from the position max((i – locations[i]), 1) to min((i + locations[i]), n ) (Closed intervals). Initially all the lights are switched off. Find the minimum number of fountains that must be switched on to cover the road.\n",
    "\n",
    "Example\n",
    "\n",
    "n = 3\n",
    "\n",
    "locations[] = {0, 2, 3}then\n",
    "\n",
    "For position 1: locations[1] = 0, max((1 – 0),1) to mini( (1+0), 3) gives range = 1 to 1\n",
    "\n",
    "For position 2: locations[2] = 2, max((2-2),1) to min( (2+2), 3) gives range = 1 to 3\n",
    "\n",
    "For position 3: locations[3] = 1, max( (3-1),1) to min( (3+1), 3) gives range = 2 to 3\n",
    "\n",
    "For the entire length of this road to be covered, only the light at position 2 needs to be activated.\n",
    "\n",
    "Function Description\n",
    "\n",
    "Returns\n",
    "\n",
    "int: the minimum number of street lights that must be activated\n",
    "\n",
    "Constraints\n",
    "\n",
    "1<_n<_ 10^5\n",
    " O<_locations[i] <_ mini (n,100) (where 1 <_1<_\n",
    "10^5)\n",
    "\n",
    "► Input Format For Custom Testing\n",
    "\n",
    "Sample Case 0\n",
    "\n",
    "Sample Input For Custom Testing\n",
    "\n",
    "3 ->locations[] size n = 3\n",
    "\n",
    "1 ->locations[] [1, 1, 1]\n",
    "\n",
    "1 ->Sample Output\n",
    "\n",
    "Sample Output\n",
    "\n",
    "1"
   ]
  },
  {
   "cell_type": "code",
   "execution_count": 1,
   "metadata": {},
   "outputs": [
    {
     "name": "stdout",
     "output_type": "stream",
     "text": [
      "1\n"
     ]
    }
   ],
   "source": [
    "from typing import List\n",
    "\n",
    "class Solution:\n",
    "    def minLights(self, n: int, ranges: List[int]) -> int:\n",
    "        dp = [float('inf')] * (n + 1)\n",
    "        dp[0] = 0\n",
    "        \n",
    "        for i, light_range in enumerate(ranges):\n",
    "            left = max(0, i - light_range)\n",
    "            right = min(n, i + light_range)\n",
    "            \n",
    "            for j in range(left, right + 1):\n",
    "                dp[j] = min(dp[j], dp[left] + 1)\n",
    "        \n",
    "        return dp[n] if dp[n] != float('inf') else -1\n",
    "\n",
    "# Example Usage\n",
    "solution = Solution()\n",
    "n = 3\n",
    "locations = [0, 2, 1]\n",
    "print(solution.minLights(n, locations))  # Output: 1\n"
   ]
  }
 ],
 "metadata": {
  "kernelspec": {
   "display_name": "Python 3",
   "language": "python",
   "name": "python3"
  },
  "language_info": {
   "codemirror_mode": {
    "name": "ipython",
    "version": 3
   },
   "file_extension": ".py",
   "mimetype": "text/x-python",
   "name": "python",
   "nbconvert_exporter": "python",
   "pygments_lexer": "ipython3",
   "version": "3.11.5"
  }
 },
 "nbformat": 4,
 "nbformat_minor": 2
}
