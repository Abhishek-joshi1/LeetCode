{
 "cells": [
  {
   "cell_type": "markdown",
   "metadata": {},
   "source": [
    "Question 1 : Count Non-repeated Character in String\n",
    "A data compression software utilizes various steps to compress a string of data. One of the steps involves finding the count of characters that are not repeated in the string.\n",
    "\n",
    "Write an algorithm for the software developer to find the count of characters that are not repeated in the string.\n",
    "\n",
    "Input Format\n",
    "The input consists of a string.\n",
    "compString representing the string to be compressed.\n",
    "\n",
    "Output\n",
    "Print an integer representing the count of characters that are not repeated in the string. If no such character is found or the input string is empty then print 0.\n",
    "\n",
    "Note\n",
    "The input string compString is case sensitive. Uppercase characters and lowercase characters are counted as different. The input string compString consists of alphanumeric and special characters only.\n",
    "\n",
    "Example\n",
    "Input:  alphaadida\n",
    "Output: 4\n",
    " \n",
    "Explanation :  ** Non repeated characters are l, p ,h ,i **\n",
    "[Tech Mahindra Coding Questions 2024]"
   ]
  },
  {
   "cell_type": "code",
   "execution_count": 3,
   "metadata": {},
   "outputs": [
    {
     "name": "stdout",
     "output_type": "stream",
     "text": [
      "dict_items([('a', 4), ('l', 1), ('p', 1), ('h', 1), ('d', 2), ('i', 1)])\n",
      "4\n"
     ]
    }
   ],
   "source": [
    "from collections import Counter\n",
    "\n",
    "def nonRepeatedChar(str):\n",
    "    count = 0\n",
    "    str_counter = Counter(str)\n",
    "    print(str_counter.items())\n",
    "    for c, cnt in str_counter.items():\n",
    "        if cnt == 1:\n",
    "            count += 1\n",
    "    return count \n",
    "\n",
    "print(nonRepeatedChar(\"alphaadida\"))"
   ]
  }
 ],
 "metadata": {
  "kernelspec": {
   "display_name": "Python 3",
   "language": "python",
   "name": "python3"
  },
  "language_info": {
   "codemirror_mode": {
    "name": "ipython",
    "version": 3
   },
   "file_extension": ".py",
   "mimetype": "text/x-python",
   "name": "python",
   "nbconvert_exporter": "python",
   "pygments_lexer": "ipython3",
   "version": "3.11.5"
  }
 },
 "nbformat": 4,
 "nbformat_minor": 2
}
