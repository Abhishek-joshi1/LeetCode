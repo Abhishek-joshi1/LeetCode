{
 "cells": [
  {
   "cell_type": "markdown",
   "metadata": {},
   "source": [
    "Question 8 : Find Total Feet\n",
    "Given an array of integers representing measurements in inches, write a program to calculate the total of measurements in feet. Ignore the measurements that are less than a foot (eg. 10).\n",
    "\n",
    "Note: You are expected to write code in the findTotalFeet function only which will receive the first parameter as the number of items in the array and the second parameter as the array itself. You are not required to take input from the console\n",
    "\n",
    "Example:\n",
    "Finding the total measurements in feet from a list of 5 numbers\n",
    "\n",
    "Input:  \n",
    "5\n",
    "\n",
    "18 11 27 12 14\n",
    "\n",
    "Output:\n",
    "5\n",
    "\n",
    " \n",
    "Explanation :\n",
    "The first parameter (5) is the size of the array. Next is an array of measurements in inches. The total number of feet is 5 which is calculated as shown below:\n",
    "\n",
    "18->1\n",
    "\n",
    "11->0\n",
    "\n",
    "27->2\n",
    "\n",
    "12->1\n",
    "\n",
    "14->1\n",
    "\n",
    " [Tech Mahindra Coding Questions 2024]"
   ]
  },
  {
   "cell_type": "code",
   "execution_count": 1,
   "metadata": {},
   "outputs": [
    {
     "name": "stdout",
     "output_type": "stream",
     "text": [
      "5\n"
     ]
    }
   ],
   "source": [
    "def findTotalFeet(n, arr):\n",
    "    total_feet = 0\n",
    "    \n",
    "    for inches in arr:\n",
    "        if inches >= 12:\n",
    "            total_feet += inches // 12  # Convert inches to feet and add to total\n",
    "    \n",
    "    return total_feet\n",
    "\n",
    "# Example usage:\n",
    "n = 5\n",
    "arr = [18, 11, 27, 12, 14]\n",
    "print(findTotalFeet(n, arr))  # Output: 5\n"
   ]
  }
 ],
 "metadata": {
  "kernelspec": {
   "display_name": "Python 3",
   "language": "python",
   "name": "python3"
  },
  "language_info": {
   "codemirror_mode": {
    "name": "ipython",
    "version": 3
   },
   "file_extension": ".py",
   "mimetype": "text/x-python",
   "name": "python",
   "nbconvert_exporter": "python",
   "pygments_lexer": "ipython3",
   "version": "3.10.0"
  }
 },
 "nbformat": 4,
 "nbformat_minor": 2
}
