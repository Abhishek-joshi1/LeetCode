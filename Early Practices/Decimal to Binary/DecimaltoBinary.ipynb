{
 "cells": [
  {
   "cell_type": "markdown",
   "metadata": {},
   "source": [
    "Question 5 : Write a program for Decimal to Binary Conversion\n",
    "Given a decimal number as input, we need to write a program to convert the given decimal number into an equivalent binary number.\n",
    "\n",
    "Example\n",
    "Convert 17 and 33 into it’s respective decimal form\n",
    "\n",
    "Input:  \n",
    "Input 1 : 17\n",
    "Input 2 : 33\n",
    "\n",
    "Output: \n",
    "Ouput1 : 111\n",
    "\n",
    "Output2 : 100001\n",
    "\n",
    "[Tech Mahindra Coding Questions 2024]"
   ]
  },
  {
   "cell_type": "code",
   "execution_count": 3,
   "metadata": {},
   "outputs": [
    {
     "name": "stdout",
     "output_type": "stream",
     "text": [
      "Output1: 10001\n",
      "Output2: 100001\n"
     ]
    }
   ],
   "source": [
    "def decimal_to_binary(decimal_number):\n",
    "    binary_number = bin(decimal_number).replace(\"0b\", \"\")\n",
    "    return binary_number\n",
    "\n",
    "# Example usage\n",
    "input_1 = 17\n",
    "input_2 = 33\n",
    "\n",
    "output_1 = decimal_to_binary(input_1)\n",
    "output_2 = decimal_to_binary(input_2)\n",
    "\n",
    "print(\"Output1:\", output_1)\n",
    "print(\"Output2:\", output_2)\n"
   ]
  }
 ],
 "metadata": {
  "kernelspec": {
   "display_name": "Python 3",
   "language": "python",
   "name": "python3"
  },
  "language_info": {
   "codemirror_mode": {
    "name": "ipython",
    "version": 3
   },
   "file_extension": ".py",
   "mimetype": "text/x-python",
   "name": "python",
   "nbconvert_exporter": "python",
   "pygments_lexer": "ipython3",
   "version": "3.11.5"
  }
 },
 "nbformat": 4,
 "nbformat_minor": 2
}
