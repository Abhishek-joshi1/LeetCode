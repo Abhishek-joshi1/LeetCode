{
 "cells": [
  {
   "cell_type": "markdown",
   "metadata": {},
   "source": [
    "Question 7 : Array Sub Array\n",
    "You are given an array, You have to choose a contiguous subarray of length ‘k’, and find the minimum of that segment, return the maximum of those minimums.\n",
    "\n",
    "Input:  \n",
    "1 → Length of segment x =1\n",
    "5 → size of space n = 5\n",
    "1 → space = [ 1,2,3,1,2]\n",
    "2\n",
    "3\n",
    "1\n",
    "2\n",
    "\n",
    "Output:\n",
    "3\n",
    "\n",
    " \n",
    "Explanation :\n",
    "The subarrays of size x = 1 are [1],[2],[3],[1], and [2],Because each subarray only contains 1 element, each value is minimal with respect to the subarray it is in. The maximum of these values is 3. Therefore, the answer is 3.   [Tech Mahindra Coding Questions 2024]"
   ]
  },
  {
   "cell_type": "code",
   "execution_count": 1,
   "metadata": {},
   "outputs": [
    {
     "name": "stdout",
     "output_type": "stream",
     "text": [
      "3\n"
     ]
    }
   ],
   "source": [
    "from collections import deque\n",
    "\n",
    "def max_of_min_subarrays(arr, k):\n",
    "    n = len(arr)\n",
    "    deq = deque()\n",
    "    max_of_mins = float('-inf')\n",
    "\n",
    "    for i in range(n):\n",
    "        # Remove elements not within the window (older than k elements)\n",
    "        if deq and deq[0] < i - k + 1:\n",
    "            deq.popleft()\n",
    "\n",
    "        # Remove elements that are greater than the current element\n",
    "        # as they won't be useful for future windows\n",
    "        while deq and arr[deq[-1]] >= arr[i]:\n",
    "            deq.pop()\n",
    "\n",
    "        # Add the current element index to the deque\n",
    "        deq.append(i)\n",
    "\n",
    "        # If we have processed at least k elements, we have a valid window\n",
    "        if i >= k - 1:\n",
    "            # The front of the deque contains the index of the minimum element of the window\n",
    "            max_of_mins = max(max_of_mins, arr[deq[0]])\n",
    "\n",
    "    return max_of_mins\n",
    "\n",
    "# Example usage:\n",
    "arr = [1, 2, 3, 1, 2]\n",
    "k = 1\n",
    "print(max_of_min_subarrays(arr, k))  # Output: 3\n"
   ]
  }
 ],
 "metadata": {
  "kernelspec": {
   "display_name": "Python 3",
   "language": "python",
   "name": "python3"
  },
  "language_info": {
   "codemirror_mode": {
    "name": "ipython",
    "version": 3
   },
   "file_extension": ".py",
   "mimetype": "text/x-python",
   "name": "python",
   "nbconvert_exporter": "python",
   "pygments_lexer": "ipython3",
   "version": "3.11.5"
  }
 },
 "nbformat": 4,
 "nbformat_minor": 2
}
