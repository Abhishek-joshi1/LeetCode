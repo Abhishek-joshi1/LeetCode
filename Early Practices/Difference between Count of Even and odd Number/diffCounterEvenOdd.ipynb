{
 "cells": [
  {
   "cell_type": "markdown",
   "metadata": {},
   "source": [
    "Question 2 : Difference Between the Count of Odd numbers and Even numbers\n",
    "Write a program to return the difference between the count of odd numbers and even numbers.\n",
    "\n",
    "Note : You are expected to write code in the countOddEvenDifference function only which will receive the first parameter as the number of items in the array and second parameter as the array itself. you are not required to take input from the console.\n",
    "\n",
    "Example\n",
    "Finding the difference between the count of odd and even numbers from a list of 8  number\n",
    "\n",
    "Input1 :  8\n",
    "Input2 :  10 20 30 40 55 66 77 83\n",
    "Output: -2\n",
    " \n",
    "Explanation :\n",
    "The first paramter (8) is the szie of the array. Next is an array of integers. The calculation of difference between count sum of odd and even numbers is as follows:\n",
    "\n",
    "3 (count of odd numbers) – 5 (count of even numbers) = -2    [Tech Mahindra Coding Questions 2024]"
   ]
  },
  {
   "cell_type": "code",
   "execution_count": 2,
   "metadata": {},
   "outputs": [
    {
     "name": "stdout",
     "output_type": "stream",
     "text": [
      "Enter the lenght of arr :\n",
      "8\n",
      "Enter the number : \n",
      "[10, 20, 30, 40, 5, 66, 77, 83]\n"
     ]
    },
    {
     "data": {
      "text/plain": [
       "2"
      ]
     },
     "execution_count": 2,
     "metadata": {},
     "output_type": "execute_result"
    }
   ],
   "source": [
    "def CountEvenODD(nums):\n",
    "    even = odd = 0\n",
    "    for num in nums:\n",
    "        if num % 2 == 1:\n",
    "            odd += 1\n",
    "        else:\n",
    "            even += 1 \n",
    "    return abs(even - odd)\n",
    "\n",
    "print(\"Enter the lenght of arr :\")\n",
    "Input1 = int(input())\n",
    "print(Input1)\n",
    "nums = []\n",
    "print(\"Enter the number : \")\n",
    "for i in range(Input1):\n",
    "    nums.append(int(input()))\n",
    "print(nums)\n",
    "CountEvenODD(nums)"
   ]
  }
 ],
 "metadata": {
  "kernelspec": {
   "display_name": "Python 3",
   "language": "python",
   "name": "python3"
  },
  "language_info": {
   "codemirror_mode": {
    "name": "ipython",
    "version": 3
   },
   "file_extension": ".py",
   "mimetype": "text/x-python",
   "name": "python",
   "nbconvert_exporter": "python",
   "pygments_lexer": "ipython3",
   "version": "3.11.5"
  }
 },
 "nbformat": 4,
 "nbformat_minor": 2
}
