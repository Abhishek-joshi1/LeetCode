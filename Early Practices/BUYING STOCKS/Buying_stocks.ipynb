{
 "cells": [
  {
   "cell_type": "markdown",
   "metadata": {},
   "source": [
    "<!-- 121. Best Time to Buy and Sell Stock -->\n",
    "\n",
    "Tech Mahindra Super Coder Questions with Solutions\n",
    "Question 1 : Buying Stocks\n",
    "You are given a list of daily prices of a stock. You can buy a stock on one day and sell it later on another day after the day you bought the stock. You can perform the above operation only once. What is the maximum loss possible?\n",
    "Example\n",
    "\n",
    "Prices=[10,4,2,9]\n",
    "\n",
    "The greatest loss is incurred when you buy at a price of 10 and sell at a price of 2. Return the difference:9.\n",
    "\n",
    "Example\n",
    "\n",
    "Price=[1,2,3,4]\n",
    "\n",
    "The Price went up every day. Return 0.\n",
    "\n",
    "Sample Input for Custom Testing\n",
    "\n",
    "STDIN                   Function\n",
    "\n",
    "———–               ————–\n",
    "\n",
    "   7   → Prices []  size n=7\n",
    "   1 →       prices =[1,8,4,2,10,3,2]\n",
    "   8\n",
    "   4\n",
    "   2\n",
    "  10\n",
    "   3\n",
    "   2\n",
    "Sample Output\n",
    "\n",
    "  8\n",
    "Explanation\n",
    "\n",
    "Using zero-based index notation, the correct answer is a[4]-a[6]=10-2=8. There is a greater difference between 10 and 1 but that would imply selling before buying, and short selling is not allowed in this problem."
   ]
  },
  {
   "cell_type": "code",
   "execution_count": 3,
   "metadata": {},
   "outputs": [
    {
     "name": "stdout",
     "output_type": "stream",
     "text": [
      "Enter the Number of Elements you want to give :\n",
      "5\n",
      "[1, 4, 6, 8, 3]\n",
      "7\n"
     ]
    }
   ],
   "source": [
    "def buyingAndSellStocks(prices):\n",
    "    sell = 0\n",
    "    hold = float('inf')\n",
    "    for i in range(len(prices)):\n",
    "        sell = max(sell,prices[i] - hold)\n",
    "        hold = min(hold,prices[i])\n",
    "    return sell\n",
    "\n",
    "if __name__ == \"__main__\":\n",
    "    print(\"Enter the Number of Elements you want to give :\")\n",
    "    n = int(input())\n",
    "    print(n)\n",
    "    arr = []\n",
    "    for i in range(n): \n",
    "        temp = int(input())\n",
    "        arr.append(temp)\n",
    "    print(arr)\n",
    "    print(buyingAndSellStocks(arr))   "
   ]
  }
 ],
 "metadata": {
  "kernelspec": {
   "display_name": "Python 3",
   "language": "python",
   "name": "python3"
  },
  "language_info": {
   "codemirror_mode": {
    "name": "ipython",
    "version": 3
   },
   "file_extension": ".py",
   "mimetype": "text/x-python",
   "name": "python",
   "nbconvert_exporter": "python",
   "pygments_lexer": "ipython3",
   "version": "3.11.5"
  }
 },
 "nbformat": 4,
 "nbformat_minor": 2
}
