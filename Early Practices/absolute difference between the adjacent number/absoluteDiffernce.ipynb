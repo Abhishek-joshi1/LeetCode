{
 "cells": [
  {
   "cell_type": "markdown",
   "metadata": {},
   "source": [
    "Question 3 : Write a program to calculate and return the sum of absolute difference between the adjacent number in an array\n",
    "Write a program to calculate and return the sum of absolute difference between the adjacent number in an array of positive integers from the position entered by the user.\n",
    "\n",
    "Note : You are expected to write code in the findTotalSum function only which receive three positional arguments:\n",
    "\n",
    "1st : number of elements in the array\n",
    "2nd : array\n",
    "3rd : position from where the sum is to be calculated\n",
    "\n",
    "Example\n",
    "Input:  \n",
    "Input 1 : 7\n",
    "Input 2 : 11 22 12 24 13 26 14\n",
    "Input 3 : 5\n",
    "\n",
    "Output: 25\n",
    " \n",
    "Explanation :\n",
    "The first parameter 7 is the size of the array. Next is an array of integers and input 5 is the position from where you have to calculate the Total Sum. The output  is 25 as per calculation below. \n",
    "| 26-13 | = 13\n",
    "| 14-26 | =  12\n",
    "Total Sum = 13 + 12 = 25   [Tech Mahindra Coding Questions 2024]"
   ]
  },
  {
   "cell_type": "code",
   "execution_count": 5,
   "metadata": {},
   "outputs": [
    {
     "name": "stdout",
     "output_type": "stream",
     "text": [
      "Enter the lenght of arr :\n",
      "7\n",
      "Enter the number : \n",
      "[11, 22, 12, 24, 13, 26, 14]\n",
      "Enter the k :\n"
     ]
    },
    {
     "data": {
      "text/plain": [
       "25"
      ]
     },
     "execution_count": 5,
     "metadata": {},
     "output_type": "execute_result"
    }
   ],
   "source": [
    "def absoluteDiff(nums,k):\n",
    "    n = len(nums)\n",
    "    if k > n or k < 0:\n",
    "        return 0\n",
    "    n1 = abs(nums[k] - nums[k - 1])\n",
    "    if k + 1 < n:\n",
    "        n2 = abs(nums[k + 1] - nums[k])\n",
    "    else:\n",
    "        return n1\n",
    "        \n",
    "    return n1 + n2\n",
    "\n",
    "print(\"Enter the lenght of arr :\")\n",
    "Input1 = int(input())\n",
    "print(Input1)\n",
    "nums = []\n",
    "print(\"Enter the number : \")\n",
    "for i in range(Input1):\n",
    "    nums.append(int(input()))\n",
    "print(nums)\n",
    "\n",
    "print(\"Enter the k :\")\n",
    "k = int(input())\n",
    "absoluteDiff(nums,k)"
   ]
  }
 ],
 "metadata": {
  "kernelspec": {
   "display_name": "Python 3",
   "language": "python",
   "name": "python3"
  },
  "language_info": {
   "codemirror_mode": {
    "name": "ipython",
    "version": 3
   },
   "file_extension": ".py",
   "mimetype": "text/x-python",
   "name": "python",
   "nbconvert_exporter": "python",
   "pygments_lexer": "ipython3",
   "version": "3.11.5"
  }
 },
 "nbformat": 4,
 "nbformat_minor": 2
}
