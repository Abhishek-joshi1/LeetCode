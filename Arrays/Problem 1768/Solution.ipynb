{
 "cells": [
  {
   "cell_type": "code",
   "execution_count": null,
   "id": "ef824d09",
   "metadata": {},
   "outputs": [],
   "source": [
    "class Solution:\n",
    "    def mergeAlternately(self, word1: str, word2: str) -> str:\n",
    "        if word1 == \"\": return word2\n",
    "        if word2 == \"\": return word1\n",
    "        n, m = len(word1), len(word2)\n",
    "        res = ''\n",
    "        i = 0 \n",
    "        while i < n or i < m:\n",
    "            if i < n : res += word1[i]\n",
    "            if i < m : res += word2[i]\n",
    "        \n",
    "        return res \n",
    "\n",
    "if __name__ == \"__main__\":\n",
    "    mySol = Solution()\n",
    "    print(mySol.mergeAlternately(\"abc\",\"pqr\"))"
   ]
  }
 ],
 "metadata": {
  "kernelspec": {
   "display_name": "Python 3",
   "language": "python",
   "name": "python3"
  },
  "language_info": {
   "codemirror_mode": {
    "name": "ipython",
    "version": 3
   },
   "file_extension": ".py",
   "mimetype": "text/x-python",
   "name": "python",
   "nbconvert_exporter": "python",
   "pygments_lexer": "ipython3",
   "version": "3.10.0"
  }
 },
 "nbformat": 4,
 "nbformat_minor": 5
}
