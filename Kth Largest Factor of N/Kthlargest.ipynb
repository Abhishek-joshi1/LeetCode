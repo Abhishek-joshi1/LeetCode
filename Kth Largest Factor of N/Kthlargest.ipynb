{
 "cells": [
  {
   "cell_type": "markdown",
   "metadata": {},
   "source": [
    "Question 2: k th largest factor of N\n",
    "Problem Description:\n",
    "A positive integer d is said to be a factor of another positive integer N if when N is divided by d, the remainder obtained is zero. For example, for number 12, there are 6 factors 1, 2, 3, 4, 6, 12. Every positive integer k has at least two factors, 1 and the number k itself. Given two positive integers N and k, write a program to print the kth largest factor of N.\n",
    "\n",
    "Input Format: The input is a comma-separated list of positive integer pairs (N, k).\n",
    "\n",
    "Output Format: The kth highest factor of N. If N does not have k factors, the output should be 1.\n",
    "\n",
    "Constraints:\n",
    "\n",
    "1<N<10000000000\n",
    "1<k<600.\n",
    "You can assume that N will have no prime factors which are larger than 13.\n",
    "\n",
    "Example 1\n",
    "\n",
    "Input: 12,3\n",
    "Output: 4\n",
    "Explanation: N is 12, k is 3. The factors of 12 are (1,2,3,4,6,12). The highest factor is 12 and the third largest factor is 4. The output must be 4.\n",
    "\n",
    "Example 2\n",
    "\n",
    "Input: 30,9\n",
    "Output: 1\n",
    "Explanation: N is 30, k is 9. The factors of 30 are (1,2,3,5,6,10,15,30). There are only 8 factors. As k is more than the number of factors, the output is 1."
   ]
  },
  {
   "cell_type": "code",
   "execution_count": 3,
   "metadata": {},
   "outputs": [
    {
     "name": "stdout",
     "output_type": "stream",
     "text": [
      "Enter number 1:\n",
      "Enter number 2:\n",
      "Enter the value of k:\n",
      "The 4-th largest common factor is: 5\n"
     ]
    }
   ],
   "source": [
    "def kthLargestFactor(num1, num2, k):\n",
    "    # Validate inputs\n",
    "    if num1 <= 0 or num2 <= 0:\n",
    "        return \"Invalid input: Both numbers must be positive.\"\n",
    "    \n",
    "    # Find all common factors\n",
    "    common_factors = []\n",
    "    limit = min(num1, num2)\n",
    "    for i in range(1, limit + 1):\n",
    "        if num1 % i == 0 and num2 % i == 0:\n",
    "            common_factors.append(i)\n",
    "    \n",
    "    # Check if k is valid\n",
    "    if k > len(common_factors) or k <= 0:\n",
    "        return f\"Invalid input: k must be between 1 and {len(common_factors)}.\"\n",
    "    \n",
    "    # Return the k-th largest factor\n",
    "    return common_factors[-k]\n",
    "\n",
    "if __name__ == '__main__':\n",
    "    print(\"Enter number 1:\")\n",
    "    a = int(input())\n",
    "    print(\"Enter number 2:\")\n",
    "    b = int(input())\n",
    "    print(\"Enter the value of k:\")\n",
    "    k = int(input())\n",
    "    result = kthLargestFactor(a, b, k)\n",
    "    print(f\"The {k}-th largest common factor is: {result}\")\n"
   ]
  }
 ],
 "metadata": {
  "kernelspec": {
   "display_name": "Python 3",
   "language": "python",
   "name": "python3"
  },
  "language_info": {
   "codemirror_mode": {
    "name": "ipython",
    "version": 3
   },
   "file_extension": ".py",
   "mimetype": "text/x-python",
   "name": "python",
   "nbconvert_exporter": "python",
   "pygments_lexer": "ipython3",
   "version": "3.11.5"
  }
 },
 "nbformat": 4,
 "nbformat_minor": 2
}
